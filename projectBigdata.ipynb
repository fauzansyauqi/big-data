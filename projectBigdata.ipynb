{
 "cells": [
  {
   "cell_type": "code",
   "execution_count": 36,
   "id": "a9023817",
   "metadata": {},
   "outputs": [],
   "source": [
    "from pyspark.sql import SparkSession\n",
    "from pyspark.ml.feature import VectorAssembler\n",
    "from pyspark.ml.clustering import KMeans\n",
    "from pyspark.ml.feature import StringIndexer, VectorAssembler\n",
    "from pyspark.ml.feature import VectorAssembler, StandardScaler\n",
    "from pyspark.sql.functions import col, min\n",
    "from pyspark.sql.functions import col\n",
    "from pyspark.sql.types import FloatType"
   ]
  },
  {
   "cell_type": "code",
   "execution_count": 2,
   "id": "2be2dd25",
   "metadata": {},
   "outputs": [],
   "source": [
    "# Sesi Spark\n",
    "spark = SparkSession.builder.appName('First Session').getOrCreate()"
   ]
  },
  {
   "cell_type": "code",
   "execution_count": 3,
   "id": "92048ef1",
   "metadata": {},
   "outputs": [
    {
     "name": "stdout",
     "output_type": "stream",
     "text": [
      "+---+---------------+-----+-----+-----+-----+-----+-----+-----+-----+-----+\n",
      "|_c0|            _c1|  _c2|  _c3|  _c4|  _c5|  _c6|  _c7|  _c8|  _c9| _c10|\n",
      "+---+---------------+-----+-----+-----+-----+-----+-----+-----+-----+-----+\n",
      "|  1|           ACEH|80.03|80.79|81.47| 79.4|81.06|48.24|45.68|48.94|48.36|\n",
      "|  2|       Simeulue|79.73| 81.2|83.29|82.29|84.15|48.24|42.86|56.79|59.46|\n",
      "|  3|   Aceh Singkil|80.54|80.63|82.36|82.46|83.76|45.24|37.25| 41.2|42.85|\n",
      "|  4|   Aceh Selatan|83.95|82.19|79.75|77.52|84.44|48.05|37.11|44.13|45.14|\n",
      "|  5|  Aceh Tenggara| 82.5|79.48|   81| 78.7|82.07|63.43|55.69|61.98|60.83|\n",
      "|  6|     Aceh Timur|   83|82.69|83.39|79.35| 81.8|48.72|36.35|40.78|39.86|\n",
      "|  7|    Aceh Tengah|82.18|86.65|89.15|85.77| 87.2|62.34|57.94| 70.5|66.55|\n",
      "|  8|     Aceh Barat|74.14| 80.2|80.02|78.64|   80|33.67|41.08|38.13|40.85|\n",
      "|  9|     Aceh Besar|75.64|74.71|77.46|75.74|81.44|40.43|36.64|41.63|46.83|\n",
      "| 10|          Pidie|75.68|78.45|78.98|76.03|79.31|49.07|49.07|53.36|46.08|\n",
      "| 11|        Bireuen|82.36|82.53|82.12|81.82|79.62|48.45|52.33|53.06|51.11|\n",
      "| 12|     Aceh Utara| 81.9|79.57|77.79|75.69| 75.7|45.63|43.52|43.55|41.95|\n",
      "| 13|Aceh Barat Daya|79.78|80.05|81.05|80.34|82.74|47.47|36.66|34.91|36.11|\n",
      "| 14|      Gayo Lues|86.97| 88.4|93.75| 89.7|90.03|69.32|62.05|79.24|68.53|\n",
      "| 15|   Aceh Tamiang|85.95|83.43|82.81|82.55|86.47|51.17|46.42|46.58|50.03|\n",
      "| 16|     Nagan Raya|81.97|83.95|87.59|85.47|85.65|38.89|38.64|45.18|44.14|\n",
      "| 17|      Aceh Jaya|86.18| 86.8|89.43|87.95|87.31|53.22|53.64|59.57|55.49|\n",
      "| 18|   Bener Meriah|87.16|90.32| 93.6|88.64|88.48|69.39|63.08|70.93|65.98|\n",
      "| 19|     Pidie Jaya|80.76|76.45|79.27|74.02|76.67|43.03|45.03|46.25|42.71|\n",
      "| 20|Kota Banda Aceh| 71.2|75.68|75.95|73.82|71.55|47.75|45.39|45.97| 51.3|\n",
      "+---+---------------+-----+-----+-----+-----+-----+-----+-----+-----+-----+\n",
      "only showing top 20 rows\n",
      "\n"
     ]
    }
   ],
   "source": [
    "# Baca dataset tanpa header\n",
    "df = spark.read.option(\"header\", \"false\").csv(\"Angkatan kerja.csv\")\n",
    "# Ambil header\n",
    "header = df.take(1)[0]\n",
    "\n",
    "# Filter baris dengan menggunakan header sebagai referensi\n",
    "df = df.filter(df['_c0'] != header['_c0'])\n",
    "\n",
    "# Tampilkan hasil\n",
    "df.show()"
   ]
  },
  {
   "cell_type": "code",
   "execution_count": 4,
   "id": "1a9bc28a",
   "metadata": {},
   "outputs": [],
   "source": [
    "data = spark.read.csv('Angkatan kerja.csv', header=True, inferSchema=True)"
   ]
  },
  {
   "cell_type": "code",
   "execution_count": 5,
   "id": "ea00c8d3",
   "metadata": {},
   "outputs": [
    {
     "name": "stdout",
     "output_type": "stream",
     "text": [
      "root\n",
      " |-- Provinsi/Kabupaten/Kota: integer (nullable = true)\n",
      " |-- Tingkat Partisipasi Angkatan Kerja Menurut Jenis Kelamin: string (nullable = true)\n",
      " |-- _c2: string (nullable = true)\n",
      " |-- _c3: double (nullable = true)\n",
      " |-- _c4: double (nullable = true)\n",
      " |-- _c5: double (nullable = true)\n",
      " |-- _c6: double (nullable = true)\n",
      " |-- _c7: string (nullable = true)\n",
      " |-- _c8: double (nullable = true)\n",
      " |-- _c9: double (nullable = true)\n",
      " |-- _c10: double (nullable = true)\n",
      "\n"
     ]
    }
   ],
   "source": [
    "data.printSchema()"
   ]
  },
  {
   "cell_type": "code",
   "execution_count": 6,
   "id": "13806c61",
   "metadata": {},
   "outputs": [],
   "source": [
    "string_indexer = StringIndexer(inputCol='_c7', outputCol='indexed_c7')\n",
    "data_indexed = string_indexer.fit(data).transform(data)"
   ]
  },
  {
   "cell_type": "code",
   "execution_count": 7,
   "id": "158b9b4e",
   "metadata": {
    "scrolled": false
   },
   "outputs": [],
   "source": [
    "selected_columns = ['_c3', '_c4', '_c5', '_c6', 'indexed_c7', '_c8', '_c9', '_c10',]\n"
   ]
  },
  {
   "cell_type": "code",
   "execution_count": 8,
   "id": "333b4d13",
   "metadata": {},
   "outputs": [],
   "source": [
    "assembler = VectorAssembler(inputCols=selected_columns, outputCol='features', handleInvalid='skip')\n",
    "data_assembled = assembler.transform(data_indexed)"
   ]
  },
  {
   "cell_type": "code",
   "execution_count": 9,
   "id": "adc24807",
   "metadata": {},
   "outputs": [],
   "source": [
    "kmeans = KMeans().setK(3).setSeed(1)  # Misalnya, dengan 3 kluster\n",
    "model = kmeans.fit(data_assembled)"
   ]
  },
  {
   "cell_type": "code",
   "execution_count": 10,
   "id": "98dad298",
   "metadata": {},
   "outputs": [],
   "source": [
    "predictions = model.transform(data_assembled)"
   ]
  },
  {
   "cell_type": "raw",
   "id": "102a6e27",
   "metadata": {},
   "source": [
    "###  tertinggi"
   ]
  },
  {
   "cell_type": "code",
   "execution_count": 11,
   "id": "7c4d018e",
   "metadata": {},
   "outputs": [
    {
     "name": "stdout",
     "output_type": "stream",
     "text": [
      "+----------+--------+\n",
      "|prediction|max(_c3)|\n",
      "+----------+--------+\n",
      "|         1|  2019.0|\n",
      "|         2|   91.56|\n",
      "|         0|    97.0|\n",
      "+----------+--------+\n",
      "\n"
     ]
    }
   ],
   "source": [
    "# Misalnya, jika ingin mengetahui kluster dengan nilai tertinggi dari kolom tertentu\n",
    "max_value_cluster = predictions.groupBy('prediction').max('_c3')  \n",
    "max_value_cluster.show()"
   ]
  },
  {
   "cell_type": "code",
   "execution_count": 12,
   "id": "81b361a3",
   "metadata": {},
   "outputs": [
    {
     "name": "stdout",
     "output_type": "stream",
     "text": [
      "+----------+--------+\n",
      "|prediction|max(_c4)|\n",
      "+----------+--------+\n",
      "|         1|  2020.0|\n",
      "|         2|   90.06|\n",
      "|         0|    96.2|\n",
      "+----------+--------+\n",
      "\n"
     ]
    }
   ],
   "source": [
    "# Misalnya, jika ingin mengetahui kluster dengan nilai tertinggi dari kolom tertentu\n",
    "max_value_cluster = predictions.groupBy('prediction').max('_c4')  \n",
    "max_value_cluster.show()"
   ]
  },
  {
   "cell_type": "code",
   "execution_count": 13,
   "id": "e208df2d",
   "metadata": {},
   "outputs": [
    {
     "name": "stdout",
     "output_type": "stream",
     "text": [
      "+----------+--------+\n",
      "|prediction|max(_c5)|\n",
      "+----------+--------+\n",
      "|         1|  2021.0|\n",
      "|         2|   90.84|\n",
      "|         0|   97.05|\n",
      "+----------+--------+\n",
      "\n"
     ]
    }
   ],
   "source": [
    "# Misalnya, jika ingin mengetahui kluster dengan nilai tertinggi dari kolom tertentu\n",
    "max_value_cluster = predictions.groupBy('prediction').max('_c5')  \n",
    "max_value_cluster.show()"
   ]
  },
  {
   "cell_type": "code",
   "execution_count": 14,
   "id": "278d066a",
   "metadata": {},
   "outputs": [
    {
     "name": "stdout",
     "output_type": "stream",
     "text": [
      "+----------+--------+\n",
      "|prediction|max(_c6)|\n",
      "+----------+--------+\n",
      "|         1|  2022.0|\n",
      "|         2|   90.07|\n",
      "|         0|   98.55|\n",
      "+----------+--------+\n",
      "\n"
     ]
    }
   ],
   "source": [
    "# Misalnya, jika ingin mengetahui kluster dengan nilai tertinggi dari kolom tertentu\n",
    "max_value_cluster = predictions.groupBy('prediction').max('_c6')  \n",
    "max_value_cluster.show()"
   ]
  },
  {
   "cell_type": "code",
   "execution_count": 15,
   "id": "d0623faa",
   "metadata": {},
   "outputs": [
    {
     "name": "stdout",
     "output_type": "stream",
     "text": [
      "+----------+---------------+\n",
      "|prediction|max(indexed_c7)|\n",
      "+----------+---------------+\n",
      "|         1|           38.0|\n",
      "|         2|          241.0|\n",
      "|         0|          509.0|\n",
      "+----------+---------------+\n",
      "\n"
     ]
    }
   ],
   "source": [
    "# Misalnya, jika ingin mengetahui kluster dengan nilai tertinggi dari kolom tertentu\n",
    "max_value_cluster = predictions.groupBy('prediction').max('indexed_c7')  \n",
    "max_value_cluster.show()"
   ]
  },
  {
   "cell_type": "code",
   "execution_count": 16,
   "id": "49f18bfd",
   "metadata": {},
   "outputs": [
    {
     "name": "stdout",
     "output_type": "stream",
     "text": [
      "+----------+--------+\n",
      "|prediction|max(_c8)|\n",
      "+----------+--------+\n",
      "|         1|  2019.0|\n",
      "|         2|   62.39|\n",
      "|         0|   97.04|\n",
      "+----------+--------+\n",
      "\n"
     ]
    }
   ],
   "source": [
    "# Misalnya, jika ingin mengetahui kluster dengan nilai tertinggi dari kolom tertentu\n",
    "max_value_cluster = predictions.groupBy('prediction').max('_c8')  \n",
    "max_value_cluster.show()"
   ]
  },
  {
   "cell_type": "code",
   "execution_count": 17,
   "id": "682b6382",
   "metadata": {},
   "outputs": [
    {
     "name": "stdout",
     "output_type": "stream",
     "text": [
      "+----------+--------+\n",
      "|prediction|max(_c9)|\n",
      "+----------+--------+\n",
      "|         1|  2020.0|\n",
      "|         2|    72.3|\n",
      "|         0|   97.24|\n",
      "+----------+--------+\n",
      "\n"
     ]
    }
   ],
   "source": [
    "# Misalnya, jika ingin mengetahui kluster dengan nilai tertinggi dari kolom tertentu\n",
    "max_value_cluster = predictions.groupBy('prediction').max('_c9')  \n",
    "max_value_cluster.show()"
   ]
  },
  {
   "cell_type": "code",
   "execution_count": 18,
   "id": "0e94e497",
   "metadata": {},
   "outputs": [
    {
     "name": "stdout",
     "output_type": "stream",
     "text": [
      "+----------+---------+\n",
      "|prediction|max(_c10)|\n",
      "+----------+---------+\n",
      "|         1|   2021.0|\n",
      "|         2|    70.45|\n",
      "|         0|     99.0|\n",
      "+----------+---------+\n",
      "\n"
     ]
    }
   ],
   "source": [
    "# Misalnya, jika ingin mengetahui kluster dengan nilai tertinggi dari kolom tertentu\n",
    "max_value_cluster = predictions.groupBy('prediction').max('_c10')  \n",
    "max_value_cluster.show()"
   ]
  },
  {
   "cell_type": "raw",
   "id": "e0baddae",
   "metadata": {},
   "source": [
    "### terendah"
   ]
  },
  {
   "cell_type": "code",
   "execution_count": 19,
   "id": "90744398",
   "metadata": {},
   "outputs": [
    {
     "name": "stdout",
     "output_type": "stream",
     "text": [
      "+----------+--------+\n",
      "|prediction|min(_c3)|\n",
      "+----------+--------+\n",
      "|         1|  2019.0|\n",
      "|         2|   71.17|\n",
      "|         0|   72.93|\n",
      "+----------+--------+\n",
      "\n"
     ]
    }
   ],
   "source": [
    "min_value_cluster = predictions.groupBy('prediction').min('_c3')\n",
    "min_value_cluster.show()\n"
   ]
  },
  {
   "cell_type": "code",
   "execution_count": 20,
   "id": "a9b96124",
   "metadata": {},
   "outputs": [
    {
     "name": "stdout",
     "output_type": "stream",
     "text": [
      "+----------+--------+\n",
      "|prediction|min(_c4)|\n",
      "+----------+--------+\n",
      "|         1|  2020.0|\n",
      "|         2|   67.31|\n",
      "|         0|   29.01|\n",
      "+----------+--------+\n",
      "\n"
     ]
    }
   ],
   "source": [
    "min_value_cluster = predictions.groupBy('prediction').min('_c4')\n",
    "min_value_cluster.show()"
   ]
  },
  {
   "cell_type": "code",
   "execution_count": 21,
   "id": "4e76740d",
   "metadata": {},
   "outputs": [
    {
     "name": "stdout",
     "output_type": "stream",
     "text": [
      "+----------+--------+\n",
      "|prediction|min(_c5)|\n",
      "+----------+--------+\n",
      "|         1|  2021.0|\n",
      "|         2|   71.68|\n",
      "|         0|    73.0|\n",
      "+----------+--------+\n",
      "\n"
     ]
    }
   ],
   "source": [
    "min_value_cluster = predictions.groupBy('prediction').min('_c5')\n",
    "min_value_cluster.show()"
   ]
  },
  {
   "cell_type": "code",
   "execution_count": 22,
   "id": "41cf7218",
   "metadata": {},
   "outputs": [
    {
     "name": "stdout",
     "output_type": "stream",
     "text": [
      "+----------+--------+\n",
      "|prediction|min(_c6)|\n",
      "+----------+--------+\n",
      "|         1|  2022.0|\n",
      "|         2|   69.37|\n",
      "|         0|   73.93|\n",
      "+----------+--------+\n",
      "\n"
     ]
    }
   ],
   "source": [
    "min_value_cluster = predictions.groupBy('prediction').min('_c6')\n",
    "min_value_cluster.show()"
   ]
  },
  {
   "cell_type": "code",
   "execution_count": 23,
   "id": "5992194d",
   "metadata": {},
   "outputs": [
    {
     "name": "stdout",
     "output_type": "stream",
     "text": [
      "+----------+---------------+\n",
      "|prediction|min(indexed_c7)|\n",
      "+----------+---------------+\n",
      "|         1|           38.0|\n",
      "|         2|            0.0|\n",
      "|         0|          242.0|\n",
      "+----------+---------------+\n",
      "\n"
     ]
    }
   ],
   "source": [
    "min_value_cluster = predictions.groupBy('prediction').min('indexed_c7')\n",
    "min_value_cluster.show()"
   ]
  },
  {
   "cell_type": "code",
   "execution_count": 24,
   "id": "91b248c4",
   "metadata": {},
   "outputs": [
    {
     "name": "stdout",
     "output_type": "stream",
     "text": [
      "+----------+--------+\n",
      "|prediction|min(_c8)|\n",
      "+----------+--------+\n",
      "|         1|  2019.0|\n",
      "|         2|   30.28|\n",
      "|         0|   42.44|\n",
      "+----------+--------+\n",
      "\n"
     ]
    }
   ],
   "source": [
    "min_value_cluster = predictions.groupBy('prediction').min('_c8')\n",
    "min_value_cluster.show()"
   ]
  },
  {
   "cell_type": "code",
   "execution_count": 25,
   "id": "67a0acfb",
   "metadata": {},
   "outputs": [
    {
     "name": "stdout",
     "output_type": "stream",
     "text": [
      "+----------+--------+\n",
      "|prediction|min(_c9)|\n",
      "+----------+--------+\n",
      "|         1|  2020.0|\n",
      "|         2|   31.36|\n",
      "|         0|   45.03|\n",
      "+----------+--------+\n",
      "\n"
     ]
    }
   ],
   "source": [
    "min_value_cluster = predictions.groupBy('prediction').min('_c9')\n",
    "min_value_cluster.show()"
   ]
  },
  {
   "cell_type": "code",
   "execution_count": 26,
   "id": "d359cbe8",
   "metadata": {},
   "outputs": [
    {
     "name": "stdout",
     "output_type": "stream",
     "text": [
      "+----------+---------+\n",
      "|prediction|min(_c10)|\n",
      "+----------+---------+\n",
      "|         1|   2021.0|\n",
      "|         2|    30.71|\n",
      "|         0|    42.12|\n",
      "+----------+---------+\n",
      "\n"
     ]
    }
   ],
   "source": [
    "min_value_cluster = predictions.groupBy('prediction').min('_c10')\n",
    "min_value_cluster.show()"
   ]
  },
  {
   "cell_type": "raw",
   "id": "88ffaa42",
   "metadata": {},
   "source": [
    "nilai rata-rata"
   ]
  },
  {
   "cell_type": "code",
   "execution_count": 46,
   "id": "db754af7",
   "metadata": {},
   "outputs": [
    {
     "name": "stdout",
     "output_type": "stream",
     "text": [
      "+----------+--------+\n",
      "|prediction|min(_c3)|\n",
      "+----------+--------+\n",
      "|         1|  2019.0|\n",
      "|         2|   71.17|\n",
      "|         0|   72.93|\n",
      "+----------+--------+\n",
      "\n"
     ]
    }
   ],
   "source": [
    "mean_value_cluster = predictions.groupBy('prediction').min('_c3')\n",
    "mean_value_cluster.show()"
   ]
  },
  {
   "cell_type": "code",
   "execution_count": 47,
   "id": "8832ddd4",
   "metadata": {},
   "outputs": [
    {
     "name": "stdout",
     "output_type": "stream",
     "text": [
      "+----------+--------+\n",
      "|prediction|min(_c4)|\n",
      "+----------+--------+\n",
      "|         1|  2020.0|\n",
      "|         2|   67.31|\n",
      "|         0|   29.01|\n",
      "+----------+--------+\n",
      "\n"
     ]
    }
   ],
   "source": [
    "mean_value_cluster = predictions.groupBy('prediction').min('_c4')\n",
    "mean_value_cluster.show()"
   ]
  },
  {
   "cell_type": "code",
   "execution_count": 48,
   "id": "f5ec196f",
   "metadata": {},
   "outputs": [
    {
     "name": "stdout",
     "output_type": "stream",
     "text": [
      "+----------+--------+\n",
      "|prediction|min(_c5)|\n",
      "+----------+--------+\n",
      "|         1|  2021.0|\n",
      "|         2|   71.68|\n",
      "|         0|    73.0|\n",
      "+----------+--------+\n",
      "\n"
     ]
    }
   ],
   "source": [
    "mean_value_cluster = predictions.groupBy('prediction').min('_c5')\n",
    "mean_value_cluster.show()"
   ]
  },
  {
   "cell_type": "code",
   "execution_count": 49,
   "id": "983b254b",
   "metadata": {
    "scrolled": true
   },
   "outputs": [
    {
     "name": "stdout",
     "output_type": "stream",
     "text": [
      "+----------+--------+\n",
      "|prediction|min(_c6)|\n",
      "+----------+--------+\n",
      "|         1|  2022.0|\n",
      "|         2|   69.37|\n",
      "|         0|   73.93|\n",
      "+----------+--------+\n",
      "\n"
     ]
    }
   ],
   "source": [
    "mean_value_cluster = predictions.groupBy('prediction').min('_c6')\n",
    "mean_value_cluster.show()"
   ]
  },
  {
   "cell_type": "code",
   "execution_count": 51,
   "id": "bf1fbce7",
   "metadata": {},
   "outputs": [
    {
     "name": "stdout",
     "output_type": "stream",
     "text": [
      "+----------+---------------+\n",
      "|prediction|min(indexed_c7)|\n",
      "+----------+---------------+\n",
      "|         1|           38.0|\n",
      "|         2|            0.0|\n",
      "|         0|          242.0|\n",
      "+----------+---------------+\n",
      "\n"
     ]
    }
   ],
   "source": [
    "mean_value_cluster = predictions.groupBy('prediction').min('indexed_c7')\n",
    "mean_value_cluster.show()"
   ]
  },
  {
   "cell_type": "code",
   "execution_count": 52,
   "id": "d306a089",
   "metadata": {},
   "outputs": [
    {
     "name": "stdout",
     "output_type": "stream",
     "text": [
      "+----------+--------+\n",
      "|prediction|min(_c8)|\n",
      "+----------+--------+\n",
      "|         1|  2019.0|\n",
      "|         2|   30.28|\n",
      "|         0|   42.44|\n",
      "+----------+--------+\n",
      "\n"
     ]
    }
   ],
   "source": [
    "mean_value_cluster = predictions.groupBy('prediction').min('_c8')\n",
    "mean_value_cluster.show()"
   ]
  },
  {
   "cell_type": "code",
   "execution_count": 53,
   "id": "e720fb11",
   "metadata": {},
   "outputs": [
    {
     "name": "stdout",
     "output_type": "stream",
     "text": [
      "+----------+--------+\n",
      "|prediction|min(_c9)|\n",
      "+----------+--------+\n",
      "|         1|  2020.0|\n",
      "|         2|   31.36|\n",
      "|         0|   45.03|\n",
      "+----------+--------+\n",
      "\n"
     ]
    }
   ],
   "source": [
    "mean_value_cluster = predictions.groupBy('prediction').min('_c9')\n",
    "mean_value_cluster.show()"
   ]
  },
  {
   "cell_type": "code",
   "execution_count": 54,
   "id": "618f1de2",
   "metadata": {},
   "outputs": [
    {
     "name": "stdout",
     "output_type": "stream",
     "text": [
      "+----------+---------+\n",
      "|prediction|min(_c10)|\n",
      "+----------+---------+\n",
      "|         1|   2021.0|\n",
      "|         2|    30.71|\n",
      "|         0|    42.12|\n",
      "+----------+---------+\n",
      "\n"
     ]
    }
   ],
   "source": [
    "mean_value_cluster = predictions.groupBy('prediction').min('_c10')\n",
    "mean_value_cluster.show()"
   ]
  },
  {
   "cell_type": "code",
   "execution_count": null,
   "id": "0f158d1c",
   "metadata": {},
   "outputs": [],
   "source": []
  }
 ],
 "metadata": {
  "kernelspec": {
   "display_name": "Python 3 (ipykernel)",
   "language": "python",
   "name": "python3"
  },
  "language_info": {
   "codemirror_mode": {
    "name": "ipython",
    "version": 3
   },
   "file_extension": ".py",
   "mimetype": "text/x-python",
   "name": "python",
   "nbconvert_exporter": "python",
   "pygments_lexer": "ipython3",
   "version": "3.11.4"
  }
 },
 "nbformat": 4,
 "nbformat_minor": 5
}
